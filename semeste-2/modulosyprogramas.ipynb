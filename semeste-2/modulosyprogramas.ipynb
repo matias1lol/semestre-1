#receta de diseño de fnes.
#-condificar o programar no revolver un problema
#-programa :ejerccion de funciones que interactuan
#-que sea reutilzable las funcion

#ejeccion 1:
#ve = 3500
#   = 4000
#   = 5500
#¿asust(VE)?
#asist(4000) = 120
#asist(3500) = 135
#asist(5500) = 
 